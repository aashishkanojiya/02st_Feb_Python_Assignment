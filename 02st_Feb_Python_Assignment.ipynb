{
  "nbformat": 4,
  "nbformat_minor": 0,
  "metadata": {
    "colab": {
      "provenance": []
    },
    "kernelspec": {
      "name": "python3",
      "display_name": "Python 3"
    },
    "language_info": {
      "name": "python"
    }
  },
  "cells": [
    {
      "cell_type": "markdown",
      "source": [
        "Q1. Explain with an example each when to use a for loop and a while loop."
      ],
      "metadata": {
        "id": "_fjUTt-_ngOZ"
      }
    },
    {
      "cell_type": "markdown",
      "source": [
        "Answer:-\n",
        "\n",
        "Both for loops and while loops are fundamental constructs in programming that allow for repeated execution of code, but they are used in different situations. Here’s a breakdown of when to use each, along with examples.\n",
        "\n",
        "For Loop\n",
        "\n",
        "When to Use: A for loop is best used when you know in advance how many times you want to execute a block of code. This is often the case when iterating over a collection (like a list or array) or when you have a specific range of numbers to work with.\n",
        "\n",
        "Example: Let’s say you want to print the numbers from 1 to 5."
      ],
      "metadata": {
        "id": "pATUGK86mJSR"
      }
    },
    {
      "cell_type": "code",
      "source": [
        "# Using a for loop to print numbers from 1 to 5\n",
        "for i in range(1, 6):\n",
        "    print(i)"
      ],
      "metadata": {
        "colab": {
          "base_uri": "https://localhost:8080/"
        },
        "id": "IBmzQ9bTnIl1",
        "outputId": "5ab67e00-97c1-45a3-dc7e-807ab680428a"
      },
      "execution_count": 1,
      "outputs": [
        {
          "output_type": "stream",
          "name": "stdout",
          "text": [
            "1\n",
            "2\n",
            "3\n",
            "4\n",
            "5\n"
          ]
        }
      ]
    },
    {
      "cell_type": "markdown",
      "source": [
        "While Loop\n",
        "\n",
        "When to Use: A while loop is suitable when the number of iterations is not known beforehand and depends on a condition being true. It continues to execute as long as the specified condition remains valid.\n",
        "\n",
        "Example: Imagine you want to keep asking a user for their name until they provide a valid input.\n",
        "\n"
      ],
      "metadata": {
        "id": "oCUqh7ztnNad"
      }
    },
    {
      "cell_type": "code",
      "source": [
        "# Using a while loop to ask for user input until a valid name is given\n",
        "name = \"\"\n",
        "while not name:\n",
        "    name = input(\"Please enter your name: \")\n",
        "print(f\"Hello, {name}!\")"
      ],
      "metadata": {
        "colab": {
          "base_uri": "https://localhost:8080/"
        },
        "id": "FqrwFFp2nROO",
        "outputId": "a38a308e-af0b-49d5-8ebc-1f9b9a5dd3a8"
      },
      "execution_count": 2,
      "outputs": [
        {
          "output_type": "stream",
          "name": "stdout",
          "text": [
            "Please enter your name: Ashish\n",
            "Hello, Ashish!\n"
          ]
        }
      ]
    },
    {
      "cell_type": "markdown",
      "source": [
        "Summary\n",
        "\n",
        "For Loop: Use it when you know how many times you want to repeat a block of code, such as iterating over a list or a specific range.\n",
        "\n",
        "While Loop: Use it when the number of iterations is uncertain and depends on a condition, such as waiting for user input or checking a status."
      ],
      "metadata": {
        "id": "Xvw27nZ7nNXU"
      }
    },
    {
      "cell_type": "markdown",
      "source": [
        "Q2. Write a python program to print the sum and product of the first 10 natural numbers using for\n",
        "and while loop."
      ],
      "metadata": {
        "id": "3KZM_jJHnq19"
      }
    },
    {
      "cell_type": "markdown",
      "source": [
        "Answer:-\n",
        "\n",
        "Here’s a simple Python program that calculates the sum and product of the first 10 natural numbers using both a for loop and a while loop"
      ],
      "metadata": {
        "id": "LUE5K5I9nriq"
      }
    },
    {
      "cell_type": "markdown",
      "source": [
        "Using a For Loop\n"
      ],
      "metadata": {
        "id": "P4oPn0s5oRw2"
      }
    },
    {
      "cell_type": "code",
      "source": [
        "#for loop\n",
        "sum=0\n",
        "product =1\n",
        "for i in range(1,11):\n",
        "    sum = sum+i\n",
        "    product = product*i\n",
        "\n",
        "print(\"sum of 10 nos are:\",sum)\n",
        "print(\"product of 10 nos are:\",product)"
      ],
      "metadata": {
        "colab": {
          "base_uri": "https://localhost:8080/"
        },
        "id": "_7cWZw-rnqpo",
        "outputId": "bebd51c5-7c9e-4966-f9d9-df428a7d41ee"
      },
      "execution_count": 16,
      "outputs": [
        {
          "output_type": "stream",
          "name": "stdout",
          "text": [
            "sum of 10 nos are: 55\n",
            "product of 10 nos are: 3628800\n"
          ]
        }
      ]
    },
    {
      "cell_type": "markdown",
      "source": [
        "Using a While Loop\n"
      ],
      "metadata": {
        "id": "Q6P6IVMnoIcN"
      }
    },
    {
      "cell_type": "code",
      "source": [
        "#while loop\n",
        "sum=0\n",
        "products =1\n",
        "i=1\n",
        "while (i<11):\n",
        "    sum = sum+i\n",
        "    products = products*i\n",
        "    i +=1\n",
        "print(\"sum of 10 nos are:\",sum)\n",
        "print(\"product of 10 nos are:\",products)"
      ],
      "metadata": {
        "colab": {
          "base_uri": "https://localhost:8080/"
        },
        "id": "AkKR5Ocunqmf",
        "outputId": "f5e3f195-4958-4aa1-8d93-751978e2fa00"
      },
      "execution_count": 17,
      "outputs": [
        {
          "output_type": "stream",
          "name": "stdout",
          "text": [
            "sum of 10 nos are: 55\n",
            "product of 10 nos are: 3628800\n"
          ]
        }
      ]
    },
    {
      "cell_type": "markdown",
      "source": [
        "Explanation\n",
        "\n",
        "For Loop: The program initializes the sum and product variables, then iterates through numbers 1 to 10, updating the sum and product in each iteration.\n",
        "\n",
        "While Loop: Similarly, it initializes the variables and uses a counter to loop through the numbers until it reaches 10, updating the sum and product accordingly."
      ],
      "metadata": {
        "id": "vxzJa7CkoOWN"
      }
    },
    {
      "cell_type": "markdown",
      "source": [
        "Q3. Create a python program to compute the electricity bill for a household.\n",
        "\n",
        "The per-unit charges in rupees are as follows: For the first 100 units, the user will be charged Rs. 4.5 per\n",
        "unit, for the next 100 units, the user will be charged Rs. 6 per unit, and for the next 100 units, the user will\n",
        "be charged Rs. 10 per unit, After 300 units and above the user will be charged Rs. 20 per unit.\n",
        "\n",
        "You are required to take the units of electricity consumed in a month from the user as input.\n",
        "\n",
        "Your program must pass this test case: when the unit of electricity consumed by the user in a month is\n",
        "310, the total electricity bill should be 2250."
      ],
      "metadata": {
        "id": "vULxCVwsoVHn"
      }
    },
    {
      "cell_type": "markdown",
      "source": [
        "Answer:-\n",
        "\n",
        "Python program to calculate the electricity bill for a household based on the specified rates for different usage levels:"
      ],
      "metadata": {
        "id": "obzIbOVKoun1"
      }
    },
    {
      "cell_type": "code",
      "source": [
        "units = int(input('Enter Units: '))\n",
        "bill = 0\n",
        "if units <= 100:\n",
        "    bill += 4.5*units\n",
        "    units -= 100\n",
        "elif units > 100 and units <= 200:\n",
        "    bill += 450\n",
        "    units -= 100\n",
        "    bill += 6*units\n",
        "elif units > 200 and units <= 300:\n",
        "    bill += 450+600\n",
        "    units -= 200\n",
        "    bill += 10*units\n",
        "elif units > 300:\n",
        "    bill += 450+600+1000\n",
        "    units -= 300\n",
        "    bill += 20*units\n",
        "print(f'Total Electricity Bill Rs.{bill}')"
      ],
      "metadata": {
        "colab": {
          "base_uri": "https://localhost:8080/"
        },
        "id": "Xb3tnbISovW_",
        "outputId": "9495ea1e-9412-48ba-c09e-b762b2b6fabd"
      },
      "execution_count": 14,
      "outputs": [
        {
          "output_type": "stream",
          "name": "stdout",
          "text": [
            "Enter Units: 310\n",
            "Total Electricity Bill Rs.2250\n"
          ]
        }
      ]
    },
    {
      "cell_type": "markdown",
      "source": [
        "Q4. Create a list of numbers from 1 to 100. Use for loop and while loop to calculate the cube of each\n",
        "number and if the cube of that number is divisible by 4 or 5 then append that number in a list and print\n",
        "that list."
      ],
      "metadata": {
        "id": "rRklE0G6qoRl"
      }
    },
    {
      "cell_type": "markdown",
      "source": [
        "Answer:-"
      ],
      "metadata": {
        "id": "FtAQ0_Ohqo5e"
      }
    },
    {
      "cell_type": "code",
      "source": [
        "#for loop\n",
        "l = list(range(1,101))\n",
        "\n",
        "newlist =[]\n",
        "\n",
        "for i in l:\n",
        "    c= i**3\n",
        "    if c %4 ==0 or c%5==0:\n",
        "        newlist.append(i)\n",
        "print(newlist)"
      ],
      "metadata": {
        "colab": {
          "base_uri": "https://localhost:8080/"
        },
        "id": "MX0XC-xdpaFJ",
        "outputId": "ce9cf543-7ee9-485a-c694-0a31364a049e"
      },
      "execution_count": 9,
      "outputs": [
        {
          "output_type": "stream",
          "name": "stdout",
          "text": [
            "[2, 4, 5, 6, 8, 10, 12, 14, 15, 16, 18, 20, 22, 24, 25, 26, 28, 30, 32, 34, 35, 36, 38, 40, 42, 44, 45, 46, 48, 50, 52, 54, 55, 56, 58, 60, 62, 64, 65, 66, 68, 70, 72, 74, 75, 76, 78, 80, 82, 84, 85, 86, 88, 90, 92, 94, 95, 96, 98, 100]\n"
          ]
        }
      ]
    },
    {
      "cell_type": "code",
      "source": [
        "#while loop\n",
        "newlist2 =[]\n",
        "i =1\n",
        "while i <= len(l):\n",
        "    c = i**3\n",
        "    if c%4 ==0 or c%5 ==0:\n",
        "        newlist2.append(i)\n",
        "    i+=1\n",
        "print(newlist2)"
      ],
      "metadata": {
        "colab": {
          "base_uri": "https://localhost:8080/"
        },
        "id": "kMhVfCOHq6pH",
        "outputId": "72427b8d-9d52-491d-c2fb-e7e830d689d8"
      },
      "execution_count": 10,
      "outputs": [
        {
          "output_type": "stream",
          "name": "stdout",
          "text": [
            "[2, 4, 5, 6, 8, 10, 12, 14, 15, 16, 18, 20, 22, 24, 25, 26, 28, 30, 32, 34, 35, 36, 38, 40, 42, 44, 45, 46, 48, 50, 52, 54, 55, 56, 58, 60, 62, 64, 65, 66, 68, 70, 72, 74, 75, 76, 78, 80, 82, 84, 85, 86, 88, 90, 92, 94, 95, 96, 98, 100]\n"
          ]
        }
      ]
    },
    {
      "cell_type": "markdown",
      "source": [
        "Q5. Write a program to filter count vowels in the below-given string.\n",
        "string = \"I want to become a data scientist\""
      ],
      "metadata": {
        "id": "F0cEFCj_rD2w"
      }
    },
    {
      "cell_type": "markdown",
      "source": [
        "Answer:-"
      ],
      "metadata": {
        "id": "Ypx7yqD5rETf"
      }
    },
    {
      "cell_type": "code",
      "source": [
        "sts = str(input(\"Enter the input\"))\n",
        "vowels = 'aeiouAEIOU'\n",
        "count=0\n",
        "for char in sts:\n",
        "    if char in vowels:\n",
        "       count+=1\n",
        "print(count)"
      ],
      "metadata": {
        "colab": {
          "base_uri": "https://localhost:8080/"
        },
        "id": "lEDTjdPLrJ7N",
        "outputId": "42a11a34-f4bc-4ef4-a129-3030a0af8db9"
      },
      "execution_count": 15,
      "outputs": [
        {
          "output_type": "stream",
          "name": "stdout",
          "text": [
            "Enter the inputI want to become a data scientist\n",
            "12\n"
          ]
        }
      ]
    }
  ]
}